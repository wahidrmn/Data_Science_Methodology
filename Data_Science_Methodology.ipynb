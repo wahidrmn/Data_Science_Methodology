{
 "cells": [
  {
   "cell_type": "markdown",
   "metadata": {},
   "source": [
    "Data Science Methodology Case Study : Peer-graded Final Assignment"
   ]
  },
  {
   "cell_type": "markdown",
   "metadata": {},
   "source": [
    "# Topic: \"Credit Card Fraud Detection.\""
   ]
  },
  {
   "cell_type": "markdown",
   "metadata": {},
   "source": [
    "Which topic did you choose to apply the data science methodology to? (2 marks)\n",
    "\n",
    "I am selecting the topic \"Credit card Fraud detection\", to finding out the fraudulent card transactions so that, card owner don’t have to pay for the fraud transactions which he/she didn't even purchased. "
   ]
  },
  {
   "cell_type": "markdown",
   "metadata": {},
   "source": [
    "Next, you will play the role of the client and the data scientist.\n",
    "\n",
    "Using the topic that you selected, complete the Business Understanding stage by coming up with a problem that you would like to solve and phrasing it in the form of a question that you will use data to answer. (3 marks)\n",
    "\n",
    "You are required to:\n",
    "\n",
    "    Describe the problem, related to the topic you selected.\n",
    "    Phrase the problem as a question to be answered using data.\n",
    "\n",
    "For example, using the food recipes use case discussed in the labs, the question that we defined was, \"Can we automatically determine the cuisine of a given dish based on its ingredients?\".\n",
    "\n",
    "Problem description:\n",
    "\n",
    "Major issues to find out the fraud transactions detection are given below:\n",
    "\n",
    "1)      Major Factor in this case is enormous credit card transactions processed every day. Out of that only  1.2% transactions are fraudulent, which are need to sort out.\n",
    "\n",
    "2)      There are some unclassified data because many of the fraudulent transactions are not reported or caught.\n",
    "\n",
    "3)      Always Adaptive Technique used by the scammers.\n",
    "\n",
    "4)      The big challenge in this case is fraudulent detection model has to be the most fastest possible process and most accurate.\n",
    "\n",
    "This could be very hard job to get the high accuracy fraudulent transitions in short period of time from millions of transactions every day. However data has to be classified and sorted by several criteria, as some people pay through EFTPOS ,  some through online payment method, some over phone transactions, some of the transactions through net transfer then card usage history, location , user profile etc . Also try to find out the missing information to reduce the gap and higher accuracy of the outcome. "
   ]
  },
  {
   "cell_type": "markdown",
   "metadata": {},
   "source": [
    "Briefly explain how you would complete each of the following stages for the problem that you described in the Business Understanding stage, so that you are ultimately able to answer the question that you came up with. (5 marks):\n",
    "\n",
    "    Analytic Approach\n",
    "    Data Requirements\n",
    "    Data Collection\n",
    "    Data Understanding and Preparation\n",
    "    Modeling and Evaluation\n",
    "\n",
    "You can always refer to the labs as a reference with describing how you would complete each stage for your problem.\n",
    "\n",
    "1)\tAnalytic Approach : \n",
    "\n",
    "The model has to be design to detect all the abnormal transactions as a fraudulent transaction as quickly as possible. Inaccuracy has to be handle with proper methods. data sourcing must be accurate including missing data and . As we know, scammer always use the adaptive technique , we need to make the model simple and interpretable so that once the scammer adapts to it with just some tweaks we can have a new model up and running to deploy.\n",
    "\n",
    "2)\tData Requirements\n",
    "Our set goal is to detect the fraudulent transactions so we need to collect all the credit card details, transactions record , method of transactions, transactions sequence, transactions amount, type of purchase record, location of transactions, transactions history , Credit card user’s details etc. \n",
    "3)\tData Collection: \n",
    "Usually credit card details, transaction details,  user details all are collecting as a structured form but some cases we have to collect  unstructured data like sequence of transactions, location of transactions, weekly, monthly, yearly transactions report etc. On that occasion from unstructured form as per our necessity, we need to define the data by using python program in Jupiter notebooks.\n",
    "\n",
    "4.\tData Understanding and Preparation:\n",
    "Under this terminology we need to process and handle all kind of incomplete and complete data. Some cases we may have to manually fix, like the same product with different names. Some cases have to clean the data and remove unnecessary data and fill out the gap of missing data and prepare it for display. \n",
    "\n",
    "5)\tModeling and Evaluation\n",
    "In this methodology we can describe the data in various ways by using python, like 1.2% fraudulent transaction sorted out from all the transactions. These data are highly Unbalanced. We have applied our models without balancing it and if we don’t get a good accuracy then we can find a way to balance this dataset. But first, let’s implement the model without it and will balance the data only if needed. We can separate the fraudulent transactions and normal transactions, amount etc. We can visualize the details information by using visualization tools. \n",
    "Training and Testing Data Bifurcation: We will be dividing the dataset into two main groups. One for training the model and the other for Testing our trained model’s performance. Evaluating parameters are used as per requirements. \n"
   ]
  }
 ],
 "metadata": {
  "kernelspec": {
   "display_name": "Python",
   "language": "python",
   "name": "conda-env-python-py"
  },
  "language_info": {
   "codemirror_mode": {
    "name": "ipython",
    "version": 3
   },
   "file_extension": ".py",
   "mimetype": "text/x-python",
   "name": "python",
   "nbconvert_exporter": "python",
   "pygments_lexer": "ipython3",
   "version": "3.6.11"
  }
 },
 "nbformat": 4,
 "nbformat_minor": 4
}
